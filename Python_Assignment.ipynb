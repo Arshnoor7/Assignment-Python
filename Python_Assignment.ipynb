{
  "nbformat": 4,
  "nbformat_minor": 0,
  "metadata": {
    "colab": {
      "provenance": [],
      "authorship_tag": "ABX9TyO7//bZ3oNCQxEybd/fWNq4",
      "include_colab_link": true
    },
    "kernelspec": {
      "name": "python3",
      "display_name": "Python 3"
    },
    "language_info": {
      "name": "python"
    }
  },
  "cells": [
    {
      "cell_type": "markdown",
      "metadata": {
        "id": "view-in-github",
        "colab_type": "text"
      },
      "source": [
        "<a href=\"https://colab.research.google.com/github/Arshnoor7/Python-Assignment/blob/main/Python_Assignment.ipynb\" target=\"_parent\"><img src=\"https://colab.research.google.com/assets/colab-badge.svg\" alt=\"Open In Colab\"/></a>"
      ]
    },
    {
      "cell_type": "markdown",
      "source": [
        "# **PYTHON** **ASSIGNMENT** "
      ],
      "metadata": {
        "id": "ZB_fMIHD0jzx"
      }
    },
    {
      "cell_type": "markdown",
      "source": [
        "### **Q1. L is a list defined as L= [11, 12, 13, 14].**"
      ],
      "metadata": {
        "id": "XcB9J4Nd0loR"
      }
    },
    {
      "cell_type": "markdown",
      "source": [
        "(i) WAP to add 50 and 60 to L. "
      ],
      "metadata": {
        "id": "Ev7enx_T0oku"
      }
    },
    {
      "cell_type": "code",
      "source": [
        "L=[11,12,13,14]\n",
        "print(\"L                  --->\" , L)\n",
        "\n",
        "L.append(50)\n",
        "print(\"After Adding 50 to L ->\" , L)\n",
        "\n",
        "L.append(60)\n",
        "print(\"After Adding 60 to L ->\" , L)"
      ],
      "metadata": {
        "colab": {
          "base_uri": "https://localhost:8080/"
        },
        "id": "08dNXcuU0rw8",
        "outputId": "012b4eeb-c51b-4750-a6d3-86a9a1a2d9ca"
      },
      "execution_count": 8,
      "outputs": [
        {
          "output_type": "stream",
          "name": "stdout",
          "text": [
            "L                  ---> [11, 12, 13, 14]\n",
            "After Adding 50 to L -> [11, 12, 13, 14, 50]\n",
            "After Adding 60 to L -> [11, 12, 13, 14, 50, 60]\n"
          ]
        }
      ]
    },
    {
      "cell_type": "markdown",
      "source": [
        "(ii) WAP to remove 11 and 13from L."
      ],
      "metadata": {
        "id": "adLNpUCU0ujl"
      }
    },
    {
      "cell_type": "code",
      "source": [
        "L=[11,12,13,14]\n",
        "print(\"L                  ->\" , L)\n",
        "\n",
        "del L[0]\n",
        "print(\"Removing 11 from L ->\", L)\n",
        "\n",
        "del L[1]\n",
        "print(\"Removing 13 from L ->\", L)"
      ],
      "metadata": {
        "colab": {
          "base_uri": "https://localhost:8080/"
        },
        "id": "vMir5x440xdS",
        "outputId": "8fbeee89-c242-4a86-82c6-383c5993be82"
      },
      "execution_count": 9,
      "outputs": [
        {
          "output_type": "stream",
          "name": "stdout",
          "text": [
            "L                  -> [11, 12, 13, 14]\n",
            "Removing 11 from L -> [12, 13, 14]\n",
            "Removing 13 from L -> [12, 14]\n"
          ]
        }
      ]
    },
    {
      "cell_type": "markdown",
      "source": [
        "(iii) WAP to sort L in ascending order."
      ],
      "metadata": {
        "id": "iaGfuLZk0vDd"
      }
    },
    {
      "cell_type": "code",
      "source": [
        "L=[11,12,13,14]\n",
        "print(\"L                             ->\" , L)\n",
        "\n",
        "L.sort()\n",
        "print(\"After sorting(Ascending order)->\",L)"
      ],
      "metadata": {
        "colab": {
          "base_uri": "https://localhost:8080/"
        },
        "id": "7uFg0YVY0x8U",
        "outputId": "2616b156-1428-49ff-9b87-738828e1d4d7"
      },
      "execution_count": 10,
      "outputs": [
        {
          "output_type": "stream",
          "name": "stdout",
          "text": [
            "L                             -> [11, 12, 13, 14]\n",
            "After sorting(Ascending order)-> [11, 12, 13, 14]\n"
          ]
        }
      ]
    },
    {
      "cell_type": "markdown",
      "source": [
        "(iv) WAP to sort L in descending order."
      ],
      "metadata": {
        "id": "jxlip51n0v7x"
      }
    },
    {
      "cell_type": "code",
      "source": [
        "L=[11,12,13,14]\n",
        "print(\"L                             ->\" , L)\n",
        "\n",
        "L.sort(reverse=True)\n",
        "print(\"After sorting(Decending order)->\",L)"
      ],
      "metadata": {
        "colab": {
          "base_uri": "https://localhost:8080/"
        },
        "id": "8CmK37iy0y--",
        "outputId": "f7aaf14a-5f3e-42b8-936f-878d3f10148c"
      },
      "execution_count": 11,
      "outputs": [
        {
          "output_type": "stream",
          "name": "stdout",
          "text": [
            "L                             -> [11, 12, 13, 14]\n",
            "After sorting(Decending order)-> [14, 13, 12, 11]\n"
          ]
        }
      ]
    },
    {
      "cell_type": "markdown",
      "source": [
        "(v) WAP to search for 13 in L.\n"
      ],
      "metadata": {
        "id": "W8yGOovy0v-T"
      }
    },
    {
      "cell_type": "code",
      "source": [
        "L=[11,12,13,14]\n",
        "print(\"L ->\" , L)\n",
        "\n",
        "print(\"13 present in L  ::\" , 13 in L)"
      ],
      "metadata": {
        "colab": {
          "base_uri": "https://localhost:8080/"
        },
        "id": "IxxJjX5s1Gt5",
        "outputId": "0ad34bb4-9a7e-4e5a-968f-91caaa5a3dcc"
      },
      "execution_count": 12,
      "outputs": [
        {
          "output_type": "stream",
          "name": "stdout",
          "text": [
            "L -> [11, 12, 13, 14]\n",
            "13 present in L  :: True\n"
          ]
        }
      ]
    },
    {
      "cell_type": "markdown",
      "source": [
        "(vi) WAP to count the number of elements present in L."
      ],
      "metadata": {
        "id": "Bwb_eE5_0wBB"
      }
    },
    {
      "cell_type": "code",
      "source": [
        "L=[11,12,13,14]\n",
        "print(\"L ->\" , L)\n",
        "\n",
        "print(\"The number of elements present in L ::\" , len(L))"
      ],
      "metadata": {
        "colab": {
          "base_uri": "https://localhost:8080/"
        },
        "id": "toRE6MIu1HRj",
        "outputId": "ecfa6a34-80a2-47c7-c686-83089291b28d"
      },
      "execution_count": 13,
      "outputs": [
        {
          "output_type": "stream",
          "name": "stdout",
          "text": [
            "L -> [11, 12, 13, 14]\n",
            "The number of elements present in L :: 4\n"
          ]
        }
      ]
    },
    {
      "cell_type": "markdown",
      "source": [
        "(vii) WAP to sum all the elements in L."
      ],
      "metadata": {
        "id": "aoERuUdl0wDm"
      }
    },
    {
      "cell_type": "code",
      "source": [
        "L=[11,12,13,14]\n",
        "print(\"L ->\" , L)\n",
        "\n",
        "print(\"Sum of all the elements of L :: \" , sum(L))"
      ],
      "metadata": {
        "colab": {
          "base_uri": "https://localhost:8080/"
        },
        "id": "B5x7l1aB1Hy-",
        "outputId": "13a8489e-2e9b-4621-e624-3f7dae900c61"
      },
      "execution_count": 14,
      "outputs": [
        {
          "output_type": "stream",
          "name": "stdout",
          "text": [
            "L -> [11, 12, 13, 14]\n",
            "Sum of all the elements of L ::  50\n"
          ]
        }
      ]
    },
    {
      "cell_type": "markdown",
      "source": [
        "(viii) WAP to sum all ODD numbers in L"
      ],
      "metadata": {
        "id": "hJbng3Cn0wGP"
      }
    },
    {
      "cell_type": "code",
      "source": [
        "L=[11,12,13,14]\n",
        "print(\"L ->\" , L)\n",
        "\n",
        "sum=0\n",
        "for i in L:\n",
        "  if i % 2 == 0:\n",
        "    continue\n",
        "  else:\n",
        "    sum=sum+i\n",
        "print(\"Sum of all odd numbers in L ::\" , sum)"
      ],
      "metadata": {
        "colab": {
          "base_uri": "https://localhost:8080/"
        },
        "id": "rxdQ-2u71JGF",
        "outputId": "613bc1bb-00b3-447b-f153-9bbc0012d90a"
      },
      "execution_count": 15,
      "outputs": [
        {
          "output_type": "stream",
          "name": "stdout",
          "text": [
            "L -> [11, 12, 13, 14]\n",
            "Sum of all odd numbers in L :: 24\n"
          ]
        }
      ]
    },
    {
      "cell_type": "markdown",
      "source": [
        "(ix) WAP to sum all EVEN numbers in L."
      ],
      "metadata": {
        "id": "N65YH8Vy12XJ"
      }
    },
    {
      "cell_type": "code",
      "source": [
        "L=[11,12,13,14]\n",
        "print(\"L ->\" , L)\n",
        "\n",
        "sum=0\n",
        "for i in L:\n",
        "  if i % 2 == 0:\n",
        "   sum=sum+i\n",
        "   \n",
        "print(\"Sum of all even numbers in L ::\" , sum)"
      ],
      "metadata": {
        "colab": {
          "base_uri": "https://localhost:8080/"
        },
        "id": "TSw21A360wdo",
        "outputId": "bae7822e-79bf-454e-fef4-7005c9661f99"
      },
      "execution_count": 16,
      "outputs": [
        {
          "output_type": "stream",
          "name": "stdout",
          "text": [
            "L -> [11, 12, 13, 14]\n",
            "Sum of all even numbers in L :: 26\n"
          ]
        }
      ]
    },
    {
      "cell_type": "markdown",
      "source": [
        "(x) WAP to sum all PRIME numbers in L."
      ],
      "metadata": {
        "id": "Bcl5Strj16cK"
      }
    },
    {
      "cell_type": "code",
      "source": [
        "L=[11,12,13,14]\n",
        "print(\"L ->\" , L)\n",
        "\n",
        "sum=0\n",
        "for i in L:\n",
        "  for a in range(2,i//2+1):\n",
        "    if i%a==0:\n",
        "      a=i\n",
        "      break\n",
        "  if a!=i:\n",
        "    sum=sum+i\n",
        "   \n",
        "print(\"Sum of all prime numbers in L ::\" , sum)"
      ],
      "metadata": {
        "colab": {
          "base_uri": "https://localhost:8080/"
        },
        "id": "EYbXPSp40wf5",
        "outputId": "d8b2792b-3255-4d41-fff9-229f30914daa"
      },
      "execution_count": 17,
      "outputs": [
        {
          "output_type": "stream",
          "name": "stdout",
          "text": [
            "L -> [11, 12, 13, 14]\n",
            "Sum of all prime numbers in L :: 24\n"
          ]
        }
      ]
    },
    {
      "cell_type": "markdown",
      "source": [
        "(xi) WAP to clear all the elements in L."
      ],
      "metadata": {
        "id": "etaYX2Ws19We"
      }
    },
    {
      "cell_type": "code",
      "source": [
        "L=[11,12,13,14]\n",
        "print(\"L ->\" , L)\n",
        "\n",
        "L.clear()\n",
        "print(\"After clear L ->\" , L)"
      ],
      "metadata": {
        "colab": {
          "base_uri": "https://localhost:8080/"
        },
        "id": "4mkNseFS0wiF",
        "outputId": "73532ec8-bedc-4d6c-e0df-ca52264fc46e"
      },
      "execution_count": 18,
      "outputs": [
        {
          "output_type": "stream",
          "name": "stdout",
          "text": [
            "L -> [11, 12, 13, 14]\n",
            "After clear L -> []\n"
          ]
        }
      ]
    },
    {
      "cell_type": "markdown",
      "source": [
        "(xii) WAP to delete L."
      ],
      "metadata": {
        "id": "3sJV-TpD1954"
      }
    },
    {
      "cell_type": "code",
      "source": [
        "L=[11,12,13,14]\n",
        "print(\"L ->\" , L)\n",
        "\n",
        "del L\n",
        "try:\n",
        "  print(\"After delete L ->\" , L)\n",
        "except:\n",
        "  print(\"'L' is not Defined\")"
      ],
      "metadata": {
        "colab": {
          "base_uri": "https://localhost:8080/"
        },
        "id": "gQJSJfxo0wkO",
        "outputId": "be615055-0c7f-4cfb-c818-ffcbfb02284c"
      },
      "execution_count": 19,
      "outputs": [
        {
          "output_type": "stream",
          "name": "stdout",
          "text": [
            "L -> [11, 12, 13, 14]\n",
            "'L' is not Defined\n"
          ]
        }
      ]
    },
    {
      "cell_type": "markdown",
      "source": [
        "### **Q2. D is a dictionary defined as D= {1:5.6, 2:7.8, 3:6.6, 4:8.7, 5:7.7}.**"
      ],
      "metadata": {
        "id": "Dn5Lv87m2gKb"
      }
    },
    {
      "cell_type": "markdown",
      "source": [
        "(i) WAP to add new entry in D; key=8 and value is 8.8"
      ],
      "metadata": {
        "id": "REZaozyZ2otY"
      }
    },
    {
      "cell_type": "code",
      "source": [
        "D={1:5.6, 2:7.8, 3:6.6, 4:8.7, 5:7.7}\n",
        "print(\"D                ->\" , D)\n",
        "\n",
        "D[8]=8.8\n",
        "print(\"After new entry D->\" , D)"
      ],
      "metadata": {
        "colab": {
          "base_uri": "https://localhost:8080/"
        },
        "id": "l1f2d7m82hjV",
        "outputId": "6742e9e8-3136-44d4-fc2b-086b0fe25ea4"
      },
      "execution_count": 20,
      "outputs": [
        {
          "output_type": "stream",
          "name": "stdout",
          "text": [
            "D                -> {1: 5.6, 2: 7.8, 3: 6.6, 4: 8.7, 5: 7.7}\n",
            "After new entry D-> {1: 5.6, 2: 7.8, 3: 6.6, 4: 8.7, 5: 7.7, 8: 8.8}\n"
          ]
        }
      ]
    },
    {
      "cell_type": "markdown",
      "source": [
        "(ii) WAP to remove key=2."
      ],
      "metadata": {
        "id": "jEJK3rGj2h2g"
      }
    },
    {
      "cell_type": "code",
      "source": [
        "D={1:5.6, 2:7.8, 3:6.6, 4:8.7, 5:7.7}\n",
        "print(\"D                   ->\" , D)\n",
        "\n",
        "del D[2]\n",
        "print(\"After removing key D->\" , D)"
      ],
      "metadata": {
        "colab": {
          "base_uri": "https://localhost:8080/"
        },
        "id": "7qUSVVYOvAdM",
        "outputId": "096a80dd-0f87-4c6d-ed25-353b6de143c7"
      },
      "execution_count": null,
      "outputs": [
        {
          "output_type": "stream",
          "name": "stdout",
          "text": [
            "D                   -> {1: 5.6, 2: 7.8, 3: 6.6, 4: 8.7, 5: 7.7}\n",
            "After removing key D-> {1: 5.6, 3: 6.6, 4: 8.7, 5: 7.7}\n"
          ]
        }
      ]
    },
    {
      "cell_type": "markdown",
      "source": [
        "(iii) WAP to check weather 6 key is present in D."
      ],
      "metadata": {
        "id": "9oeSfj28vVpW"
      }
    },
    {
      "cell_type": "code",
      "source": [
        "D={1:5.6, 2:7.8, 3:6.6, 4:8.7, 5:7.7}\n",
        "print(\"D->\" , D)\n",
        "\n",
        "print(\"6 key present in D->\" , 6 in D)"
      ],
      "metadata": {
        "colab": {
          "base_uri": "https://localhost:8080/"
        },
        "id": "4LSuwLwFvWiY",
        "outputId": "5d12d3d7-4527-44e7-ad5b-09986e1bb4be"
      },
      "execution_count": null,
      "outputs": [
        {
          "output_type": "stream",
          "name": "stdout",
          "text": [
            "D-> {1: 5.6, 2: 7.8, 3: 6.6, 4: 8.7, 5: 7.7}\n",
            "6 key present in D-> False\n"
          ]
        }
      ]
    },
    {
      "cell_type": "markdown",
      "source": [
        "(iv) WAP to count the number of elements present in D."
      ],
      "metadata": {
        "id": "TQf4wzThvmex"
      }
    },
    {
      "cell_type": "code",
      "source": [
        "D={1:5.6, 2:7.8, 3:6.6, 4:8.7, 5:7.7}\n",
        "print(\"D->\" , D)\n",
        "print (\"Number of elements present in D->\" , len(D))"
      ],
      "metadata": {
        "colab": {
          "base_uri": "https://localhost:8080/"
        },
        "id": "iQISWpnLvor1",
        "outputId": "32c15639-f15b-4594-bd65-3fb79a91e70b"
      },
      "execution_count": null,
      "outputs": [
        {
          "output_type": "stream",
          "name": "stdout",
          "text": [
            "D-> {1: 5.6, 2: 7.8, 3: 6.6, 4: 8.7, 5: 7.7}\n",
            "Number of elements present in D-> 5\n"
          ]
        }
      ]
    },
    {
      "cell_type": "markdown",
      "source": [
        "(v) WAP to add all the values present D."
      ],
      "metadata": {
        "id": "Mt72DE06wBAO"
      }
    },
    {
      "cell_type": "code",
      "source": [
        "D={1:5.6, 2:7.8, 3:6.6, 4:8.7, 5:7.7}\n",
        "print(\"D->\" , D)\n",
        "sum=0\n",
        "for i in D:\n",
        "  sum+=D[i]\n",
        "\n",
        "print(\"Sum of all the values present in D->\", sum)"
      ],
      "metadata": {
        "colab": {
          "base_uri": "https://localhost:8080/"
        },
        "id": "XdV-_vqpwBpz",
        "outputId": "8aa81acc-fc4a-42e1-9c52-3d39a6ee35fe"
      },
      "execution_count": null,
      "outputs": [
        {
          "output_type": "stream",
          "name": "stdout",
          "text": [
            "D-> {1: 5.6, 2: 7.8, 3: 6.6, 4: 8.7, 5: 7.7}\n",
            "Sum of all the values present in D-> 36.4\n"
          ]
        }
      ]
    },
    {
      "cell_type": "markdown",
      "source": [
        "(vi) WAP to update the value of 3 to 7.1."
      ],
      "metadata": {
        "id": "pdwOG7fIwlzr"
      }
    },
    {
      "cell_type": "code",
      "source": [
        "D={1:5.6, 2:7.8, 3:6.6, 4:8.7, 5:7.7}\n",
        "print(\"D               ->\" , D)\n",
        "\n",
        "D[3]=7.1\n",
        "print(\"After updating D->\" , D)"
      ],
      "metadata": {
        "colab": {
          "base_uri": "https://localhost:8080/"
        },
        "id": "2zz1nsUowKIH",
        "outputId": "e5df5104-a263-4726-8585-e55a81535054"
      },
      "execution_count": null,
      "outputs": [
        {
          "output_type": "stream",
          "name": "stdout",
          "text": [
            "D               -> {1: 5.6, 2: 7.8, 3: 6.6, 4: 8.7, 5: 7.7}\n",
            "After updating D-> {1: 5.6, 2: 7.8, 3: 7.1, 4: 8.7, 5: 7.7}\n"
          ]
        }
      ]
    },
    {
      "cell_type": "markdown",
      "source": [
        "(vii) WAP to clear the dictionary."
      ],
      "metadata": {
        "id": "pIWHBuehxH4x"
      }
    },
    {
      "cell_type": "code",
      "source": [
        "D={1:5.6, 2:7.8, 3:6.6, 4:8.7, 5:7.7}\n",
        "print(\"D               ->\" , D)\n",
        "\n",
        "D.clear()\n",
        "print(\"After clearing D->\" , D)"
      ],
      "metadata": {
        "colab": {
          "base_uri": "https://localhost:8080/"
        },
        "id": "HOz9AsezxKd_",
        "outputId": "5d9de3be-0971-4dec-d877-81c80d206e2b"
      },
      "execution_count": null,
      "outputs": [
        {
          "output_type": "stream",
          "name": "stdout",
          "text": [
            "D               -> {1: 5.6, 2: 7.8, 3: 6.6, 4: 8.7, 5: 7.7}\n",
            "After clearing D-> {}\n"
          ]
        }
      ]
    },
    {
      "cell_type": "markdown",
      "source": [
        "### **Q3. S1 is a set defined as S1= [10, 20, 30, 40, 50, 60].**\n",
        "### **S2 is a set defined as S2= [40, 50, 60, 70, 80, 90].**"
      ],
      "metadata": {
        "id": "sp3EZ-k5xYWX"
      }
    },
    {
      "cell_type": "markdown",
      "source": [
        "(i) WAP to add 55 and 66 in Set S1.\n"
      ],
      "metadata": {
        "id": "kStYrskExdQ6"
      }
    },
    {
      "cell_type": "code",
      "source": [
        "S1=set([10, 20, 30, 40, 50, 60])\n",
        "print(\"S1                 :\" , S1)\n",
        "S1.add(55)\n",
        "print(\"S1 after adding 55 :\" , S1)\n",
        "S1.add(66)\n",
        "print(\"S1 after adding 66 :\" , S1)"
      ],
      "metadata": {
        "colab": {
          "base_uri": "https://localhost:8080/"
        },
        "id": "MJaG3RPkynKx",
        "outputId": "45df0db2-f960-4ad8-8da7-d10b7c754368"
      },
      "execution_count": null,
      "outputs": [
        {
          "output_type": "stream",
          "name": "stdout",
          "text": [
            "S1                 : {40, 10, 50, 20, 60, 30}\n",
            "S1 after adding 55 : {40, 10, 50, 20, 55, 60, 30}\n",
            "S1 after adding 66 : {66, 40, 10, 50, 20, 55, 60, 30}\n"
          ]
        }
      ]
    },
    {
      "cell_type": "markdown",
      "source": [
        "(ii) WAP to remove 10 and 30 from Set S1."
      ],
      "metadata": {
        "id": "8xyje_VMzcWT"
      }
    },
    {
      "cell_type": "code",
      "source": [
        "S1=set([10, 20, 30, 40, 50, 60])\n",
        "print(\"S1                   :\" , S1)\n",
        "S1.remove(10)\n",
        "print(\"S1 after removing 10 :\" , S1)\n",
        "S1.remove(30)\n",
        "print(\"S1 after removing 30 :\" , S1)"
      ],
      "metadata": {
        "colab": {
          "base_uri": "https://localhost:8080/"
        },
        "id": "rCqZQaY6zgEj",
        "outputId": "07f2fa72-3211-440e-a645-96805b047687"
      },
      "execution_count": null,
      "outputs": [
        {
          "output_type": "stream",
          "name": "stdout",
          "text": [
            "S1                   : {40, 10, 50, 20, 60, 30}\n",
            "S1 after removing 10 : {40, 50, 20, 60, 30}\n",
            "S1 after removing 30 : {40, 50, 20, 60}\n"
          ]
        }
      ]
    },
    {
      "cell_type": "markdown",
      "source": [
        "(iii) WAP to check whether 40 is present in S1."
      ],
      "metadata": {
        "id": "5CZS3XVG0CkY"
      }
    },
    {
      "cell_type": "code",
      "source": [
        "S1=set([10, 20, 30, 40, 50, 60])\n",
        "print(\"S1 :\" , S1)\n",
        "\n",
        "print(\"40 present in S1 :\" ,40 in S1)"
      ],
      "metadata": {
        "colab": {
          "base_uri": "https://localhost:8080/"
        },
        "id": "TOFBz8Cm0Dna",
        "outputId": "571d45f0-c0f4-4d8e-a6bf-12bc336411a4"
      },
      "execution_count": null,
      "outputs": [
        {
          "output_type": "stream",
          "name": "stdout",
          "text": [
            "S1 : {40, 10, 50, 20, 60, 30}\n",
            "40 present in S1 : True\n"
          ]
        }
      ]
    },
    {
      "cell_type": "markdown",
      "source": [
        "(iv) WAP to find the union between S1 and S2"
      ],
      "metadata": {
        "id": "D4C5YgYa0a7Y"
      }
    },
    {
      "cell_type": "code",
      "source": [
        "S1= set([10, 20, 30, 40, 50, 60])\n",
        "S2= set([40, 50, 60, 70, 80, 90])\n",
        "print(\"Union between S1 and S2 :\" ,S1.union(S2))"
      ],
      "metadata": {
        "colab": {
          "base_uri": "https://localhost:8080/"
        },
        "id": "Q5olQ_T40eZB",
        "outputId": "bae183b7-766a-4b07-9fdc-e473b39c4082"
      },
      "execution_count": null,
      "outputs": [
        {
          "output_type": "stream",
          "name": "stdout",
          "text": [
            "Union between S1 and S2 : {70, 40, 10, 80, 50, 20, 90, 60, 30}\n"
          ]
        }
      ]
    },
    {
      "cell_type": "markdown",
      "source": [
        "(v) WAP to find the intersection between S1 and S2"
      ],
      "metadata": {
        "id": "c2uZpdz41Ejo"
      }
    },
    {
      "cell_type": "code",
      "source": [
        "S1= set([10, 20, 30, 40, 50, 60])\n",
        "S2= set([40, 50, 60, 70, 80, 90])\n",
        "print(\"Intersection between S1 and S2 :\" ,S1.intersection(S2))"
      ],
      "metadata": {
        "colab": {
          "base_uri": "https://localhost:8080/"
        },
        "id": "vGCbYn8V1FGO",
        "outputId": "985b8f93-f492-460a-fd34-585a626d454a"
      },
      "execution_count": null,
      "outputs": [
        {
          "output_type": "stream",
          "name": "stdout",
          "text": [
            "Intersection between S1 and S2 : {40, 50, 60}\n"
          ]
        }
      ]
    },
    {
      "cell_type": "markdown",
      "source": [
        "(vi) WAP to find the S1 - S2."
      ],
      "metadata": {
        "id": "o4qxxuUo1RRq"
      }
    },
    {
      "cell_type": "code",
      "source": [
        "S1= set([10, 20, 30, 40, 50, 60])\n",
        "S2= set([40, 50, 60, 70, 80, 90])\n",
        "print(\"S1-S2 ::\" , S1-S2)"
      ],
      "metadata": {
        "colab": {
          "base_uri": "https://localhost:8080/"
        },
        "id": "h3dVzsOZ1T2U",
        "outputId": "a59ba3d7-a8eb-42a5-c962-66c7b578eda0"
      },
      "execution_count": null,
      "outputs": [
        {
          "output_type": "stream",
          "name": "stdout",
          "text": [
            "S1-S2 :: {10, 20, 30}\n"
          ]
        }
      ]
    },
    {
      "cell_type": "markdown",
      "source": [
        "### **Q4. Write the following program.**"
      ],
      "metadata": {
        "id": "EnXC_l6p1heS"
      }
    },
    {
      "cell_type": "markdown",
      "source": [
        "(i) WAP to print 100 random strings whose length between 6 and 8."
      ],
      "metadata": {
        "id": "tW1XR-sz1ox7"
      }
    },
    {
      "cell_type": "code",
      "source": [
        "import random as r\n",
        "import string as s\n",
        "print(\"String :\" , s.ascii_letters)\n",
        "\n",
        "for i in range(1,101):\n",
        "  random_string=r.sample(s.ascii_letters,r.randint(6,9))\n",
        "  random_string=\"\".join(random_string)\n",
        "  print(\"Random String Number \" , str(i) , \" : \" ,random_string)"
      ],
      "metadata": {
        "colab": {
          "base_uri": "https://localhost:8080/"
        },
        "id": "voAHa-zh1saA",
        "outputId": "e6a42a89-243d-4100-c1e7-53e72bae44b3"
      },
      "execution_count": null,
      "outputs": [
        {
          "output_type": "stream",
          "name": "stdout",
          "text": [
            "String : abcdefghijklmnopqrstuvwxyzABCDEFGHIJKLMNOPQRSTUVWXYZ\n",
            "Random String Number  1  :  peUIksGix\n",
            "Random String Number  2  :  WHIyMbUZA\n",
            "Random String Number  3  :  HXaplM\n",
            "Random String Number  4  :  zKucMrvH\n",
            "Random String Number  5  :  HdkDOC\n",
            "Random String Number  6  :  cOfKYHaX\n",
            "Random String Number  7  :  ShKZgaAt\n",
            "Random String Number  8  :  kABmQqYR\n",
            "Random String Number  9  :  QSPVoZOgD\n",
            "Random String Number  10  :  JaqGZywpY\n",
            "Random String Number  11  :  HuZMtxgmN\n",
            "Random String Number  12  :  mPzYUMN\n",
            "Random String Number  13  :  pQxiedf\n",
            "Random String Number  14  :  YIaARKlD\n",
            "Random String Number  15  :  AKYfsXzaC\n",
            "Random String Number  16  :  sumYxF\n",
            "Random String Number  17  :  GYOJjioWl\n",
            "Random String Number  18  :  wpMogOk\n",
            "Random String Number  19  :  CatNTncF\n",
            "Random String Number  20  :  FaKXmkc\n",
            "Random String Number  21  :  wzqHnr\n",
            "Random String Number  22  :  MzUnlI\n",
            "Random String Number  23  :  OwFAEr\n",
            "Random String Number  24  :  sFvoUi\n",
            "Random String Number  25  :  ECtfsRTk\n",
            "Random String Number  26  :  taOGvsM\n",
            "Random String Number  27  :  GNsBxXjvw\n",
            "Random String Number  28  :  SptcQdFYC\n",
            "Random String Number  29  :  yUEdZvXR\n",
            "Random String Number  30  :  saGMLXIzm\n",
            "Random String Number  31  :  kDlHxprm\n",
            "Random String Number  32  :  rXjwCMf\n",
            "Random String Number  33  :  RBAIKo\n",
            "Random String Number  34  :  rCapiK\n",
            "Random String Number  35  :  vlKTnb\n",
            "Random String Number  36  :  AgOPdMw\n",
            "Random String Number  37  :  gsoDmc\n",
            "Random String Number  38  :  DIzMAhXwK\n",
            "Random String Number  39  :  enPICjyA\n",
            "Random String Number  40  :  CRvVGmAoO\n",
            "Random String Number  41  :  CsKhzWVI\n",
            "Random String Number  42  :  jEdCeRwsT\n",
            "Random String Number  43  :  pRQyHs\n",
            "Random String Number  44  :  RWyXFruYO\n",
            "Random String Number  45  :  hvOorwc\n",
            "Random String Number  46  :  iHBcnR\n",
            "Random String Number  47  :  jiXHJed\n",
            "Random String Number  48  :  uQDIoyP\n",
            "Random String Number  49  :  geIPvSCBu\n",
            "Random String Number  50  :  FjHQMBPZA\n",
            "Random String Number  51  :  ZgXkIros\n",
            "Random String Number  52  :  iwEeQyF\n",
            "Random String Number  53  :  FPmacbg\n",
            "Random String Number  54  :  UyQpkgV\n",
            "Random String Number  55  :  gBZQXSm\n",
            "Random String Number  56  :  XCRZAPJ\n",
            "Random String Number  57  :  dzsepmrJ\n",
            "Random String Number  58  :  iwzsEqYWv\n",
            "Random String Number  59  :  IrlsbLap\n",
            "Random String Number  60  :  mwAsMp\n",
            "Random String Number  61  :  ORqgDPafn\n",
            "Random String Number  62  :  fgvRup\n",
            "Random String Number  63  :  BGQHYd\n",
            "Random String Number  64  :  LlEoHCe\n",
            "Random String Number  65  :  GJRrDfB\n",
            "Random String Number  66  :  VlchvWZoM\n",
            "Random String Number  67  :  THervGbf\n",
            "Random String Number  68  :  QIiojlzU\n",
            "Random String Number  69  :  dNBpPZ\n",
            "Random String Number  70  :  hAbLqnXN\n",
            "Random String Number  71  :  KkvmztRPc\n",
            "Random String Number  72  :  HtuMYTNeX\n",
            "Random String Number  73  :  QHfyuCTJ\n",
            "Random String Number  74  :  ZeNbmI\n",
            "Random String Number  75  :  TEyvGOseb\n",
            "Random String Number  76  :  ceWktny\n",
            "Random String Number  77  :  BOTfqAK\n",
            "Random String Number  78  :  evsDjZPR\n",
            "Random String Number  79  :  gDHtFZVEN\n",
            "Random String Number  80  :  LyMKubqcU\n",
            "Random String Number  81  :  dulBSN\n",
            "Random String Number  82  :  zVbGKT\n",
            "Random String Number  83  :  reKUgWtjX\n",
            "Random String Number  84  :  SaulgKI\n",
            "Random String Number  85  :  IVzlfSBY\n",
            "Random String Number  86  :  AwNRryc\n",
            "Random String Number  87  :  mLMwRr\n",
            "Random String Number  88  :  lNLXEnWz\n",
            "Random String Number  89  :  WrJqbiytU\n",
            "Random String Number  90  :  PhMpBAfN\n",
            "Random String Number  91  :  SvLkFZ\n",
            "Random String Number  92  :  UuTtVopO\n",
            "Random String Number  93  :  NsqJAfI\n",
            "Random String Number  94  :  roBDGg\n",
            "Random String Number  95  :  FhbrRA\n",
            "Random String Number  96  :  LwrndBPW\n",
            "Random String Number  97  :  TmtZIKiEf\n",
            "Random String Number  98  :  RqlAQZfo\n",
            "Random String Number  99  :  bRSXxfzvl\n",
            "Random String Number  100  :  vmPfJRjOt\n"
          ]
        }
      ]
    },
    {
      "cell_type": "markdown",
      "source": [
        "(ii) WAP to print all prime numbers between 600 and 800.\n"
      ],
      "metadata": {
        "id": "K4JXCqKD6Av1"
      }
    },
    {
      "cell_type": "code",
      "source": [
        "def isprime(num):\n",
        "  for a in range(2, num//2 + 1):\n",
        "    if num % a == 0:\n",
        "      return 0\n",
        "  return 1\n",
        "\n",
        "for i in range (600,801):\n",
        "  if isprime(i)==1:\n",
        "    print(i,end=' ')"
      ],
      "metadata": {
        "colab": {
          "base_uri": "https://localhost:8080/"
        },
        "id": "OuJPpNua6Ee5",
        "outputId": "11555f0b-6771-47c8-99e3-cea73dad3d20"
      },
      "execution_count": null,
      "outputs": [
        {
          "output_type": "stream",
          "name": "stdout",
          "text": [
            "601 607 613 617 619 631 641 643 647 653 659 661 673 677 683 691 701 709 719 727 733 739 743 751 757 761 769 773 787 797 "
          ]
        }
      ]
    },
    {
      "cell_type": "markdown",
      "source": [
        "(iii) WAP to print all numbers between 100 and 1000 that are divisible by 7 and 9."
      ],
      "metadata": {
        "id": "3nvPzLgJ8SLG"
      }
    },
    {
      "cell_type": "code",
      "source": [
        "def divide(num):\n",
        "  if (num % 7 == 0) and (num % 9 == 0):\n",
        "    return 1\n",
        "\n",
        "for i in range(100,1001):\n",
        "  if divide(i) == 1:\n",
        "    print(i,end=' ')"
      ],
      "metadata": {
        "colab": {
          "base_uri": "https://localhost:8080/"
        },
        "id": "prHl6hYM8VkT",
        "outputId": "a7a0b631-72bb-4afe-87f9-c03640f045ba"
      },
      "execution_count": null,
      "outputs": [
        {
          "output_type": "stream",
          "name": "stdout",
          "text": [
            "126 189 252 315 378 441 504 567 630 693 756 819 882 945 "
          ]
        }
      ]
    },
    {
      "cell_type": "markdown",
      "source": [
        "### **Q5. WAP to create two lists of 10 random numbers between 10 and 30; Find**"
      ],
      "metadata": {
        "id": "FqYMHghH9GrT"
      }
    },
    {
      "cell_type": "code",
      "source": [
        "import random as r\n",
        "L1=r.sample(range(10,31),10)\n",
        "print(\"List 1 :\" , L1)\n",
        "L2=r.sample(range(10,31),10)\n",
        "print(\"List 2 :\" , L2)"
      ],
      "metadata": {
        "colab": {
          "base_uri": "https://localhost:8080/"
        },
        "id": "YumrfGRm9mN7",
        "outputId": "ac217cb9-9938-4418-e729-a27b100275d0"
      },
      "execution_count": null,
      "outputs": [
        {
          "output_type": "stream",
          "name": "stdout",
          "text": [
            "List 1 : [20, 12, 11, 21, 15, 19, 16, 30, 24, 13]\n",
            "List 2 : [13, 27, 26, 24, 19, 25, 23, 15, 11, 20]\n"
          ]
        }
      ]
    },
    {
      "cell_type": "markdown",
      "source": [
        "(i) Common numbers in the two lists"
      ],
      "metadata": {
        "id": "G6Ny-vJ09dMo"
      }
    },
    {
      "cell_type": "code",
      "source": [
        "def common_num(a,b):\n",
        "  a_set=set(a)\n",
        "  b_set=set(b)\n",
        "\n",
        "  if len(a_set.intersection(b_set)) > 0 :\n",
        "    return a_set.intersection(b_set)\n",
        "\n",
        "import random as r\n",
        "L1=r.sample(range(10,31),10)\n",
        "print(\"List 1 :\" , L1)\n",
        "L2=r.sample(range(10,31),10)\n",
        "print(\"List 2 :\" , L2)\n",
        "print(\"Common numbers in 2 lists :\" , common_num(L1,L2))"
      ],
      "metadata": {
        "colab": {
          "base_uri": "https://localhost:8080/"
        },
        "id": "RBeuwts19M8K",
        "outputId": "d42ccaac-d5b4-46b3-e16a-31e031277846"
      },
      "execution_count": null,
      "outputs": [
        {
          "output_type": "stream",
          "name": "stdout",
          "text": [
            "List 1 : [10, 11, 14, 12, 19, 13, 30, 17, 21, 25]\n",
            "List 2 : [16, 22, 27, 29, 14, 18, 19, 15, 24, 10]\n",
            "Common numbers in 2 lists : {10, 19, 14}\n"
          ]
        }
      ]
    },
    {
      "cell_type": "markdown",
      "source": [
        "(ii) Unique numbers in both the list"
      ],
      "metadata": {
        "id": "KtYAOjjwBQID"
      }
    },
    {
      "cell_type": "code",
      "source": [
        "def unique_L1(a,b):\n",
        "  a_set=set(a)\n",
        "  b_set=set(b)\n",
        "  if len(a_set.intersection(b_set)) > 0 :\n",
        "    return a_set - a_set.intersection(b_set)\n",
        "\n",
        "def unique_L2(a,b):\n",
        "  a_set=set(a)\n",
        "  b_set=set(b)\n",
        "  if len(a_set.intersection(b_set)) > 0 :\n",
        "    return b_set - a_set.intersection(b_set)\n",
        "\n",
        "import random as r\n",
        "L1=r.sample(range(10,31),10)\n",
        "print(\"List 1 :\" , L1)\n",
        "L2=r.sample(range(10,31),10)\n",
        "print(\"List 2 :\" , L2)\n",
        "print(\"Unique numbers in L1: \", unique_L1(L1,L2))\n",
        "print(\"Unique numbers in L2: \", unique_L2(L1,L2))\n",
        "\n",
        "\n"
      ],
      "metadata": {
        "colab": {
          "base_uri": "https://localhost:8080/"
        },
        "id": "DxoAWmn5BRT2",
        "outputId": "89145107-203c-4eaf-95a1-223c921648ad"
      },
      "execution_count": null,
      "outputs": [
        {
          "output_type": "stream",
          "name": "stdout",
          "text": [
            "List 1 : [20, 19, 13, 24, 30, 10, 27, 16, 18, 22]\n",
            "List 2 : [10, 14, 30, 28, 23, 25, 15, 24, 20, 26]\n",
            "Unique numbers in L1:  {13, 16, 18, 19, 22, 27}\n",
            "Unique numbers in L2:  {14, 15, 23, 25, 26, 28}\n"
          ]
        }
      ]
    },
    {
      "cell_type": "markdown",
      "source": [
        "(iii) Minimum in both the list"
      ],
      "metadata": {
        "id": "IrNEF6eiC17P"
      }
    },
    {
      "cell_type": "code",
      "source": [
        "import random as r\n",
        "L1=r.sample(range(10,31),10)\n",
        "print(\"List 1 :\" , L1)\n",
        "L2=r.sample(range(10,31),10)\n",
        "print(\"List 2 :\" , L2)\n",
        "print(\"Min in L1:\" ,min(L1))\n",
        "print(\"Min in L2:\" ,min(L2))"
      ],
      "metadata": {
        "colab": {
          "base_uri": "https://localhost:8080/"
        },
        "id": "9-3MrcFkC3Xy",
        "outputId": "97c3d3e0-4523-4f69-b972-fecd19985cd0"
      },
      "execution_count": null,
      "outputs": [
        {
          "output_type": "stream",
          "name": "stdout",
          "text": [
            "List 1 : [18, 14, 16, 22, 28, 13, 17, 30, 25, 15]\n",
            "List 2 : [18, 23, 17, 26, 22, 24, 30, 20, 29, 13]\n",
            "Min in L1: 13\n",
            "Min in L2: 13\n"
          ]
        }
      ]
    },
    {
      "cell_type": "markdown",
      "source": [
        "(iv) Maximum in both the list"
      ],
      "metadata": {
        "id": "6ZqygKOKDSeJ"
      }
    },
    {
      "cell_type": "code",
      "source": [
        "import random as r\n",
        "L1=r.sample(range(10,31),10)\n",
        "print(\"List 1 :\" , L1)\n",
        "L2=r.sample(range(10,31),10)\n",
        "print(\"List 2 :\" , L2)\n",
        "print(\"Max in L1:\" ,max(L1))\n",
        "print(\"Max in L2:\" ,max(L2))"
      ],
      "metadata": {
        "colab": {
          "base_uri": "https://localhost:8080/"
        },
        "id": "uN-MRqU5DUV4",
        "outputId": "6b7736b3-e799-41b5-edee-b5c4f9ca0d55"
      },
      "execution_count": null,
      "outputs": [
        {
          "output_type": "stream",
          "name": "stdout",
          "text": [
            "List 1 : [11, 28, 27, 19, 20, 23, 15, 10, 26, 17]\n",
            "List 2 : [30, 28, 20, 27, 17, 26, 12, 11, 21, 22]\n",
            "Max in L1: 28\n",
            "Max in L2: 30\n"
          ]
        }
      ]
    },
    {
      "cell_type": "markdown",
      "source": [
        "(v) Sum of both the lists"
      ],
      "metadata": {
        "id": "zJiCPx5XDeYX"
      }
    },
    {
      "cell_type": "code",
      "source": [
        "import random as r\n",
        "L1=r.sample(range(10,31),10)\n",
        "print(\"List 1 :\" , L1)\n",
        "L2=r.sample(range(10,31),10)\n",
        "print(\"List 2 :\" , L2)\n",
        "sum=0\n",
        "for i in L1:\n",
        "  sum+=i\n",
        "print(\"Sum of L1 :\" , sum)\n",
        "sum=0\n",
        "for i in L2:\n",
        "  sum+=i\n",
        "print(\"Sum of L2 :\" , sum)"
      ],
      "metadata": {
        "colab": {
          "base_uri": "https://localhost:8080/"
        },
        "id": "WKg66b9pDlcY",
        "outputId": "43da0cbc-9e38-472f-d584-61a4eaf5bcb3"
      },
      "execution_count": null,
      "outputs": [
        {
          "output_type": "stream",
          "name": "stdout",
          "text": [
            "List 1 : [10, 17, 29, 30, 20, 22, 11, 12, 28, 27]\n",
            "List 2 : [25, 21, 26, 17, 11, 24, 23, 30, 29, 19]\n",
            "Sum of L1 : 206\n",
            "Sum of L2 : 225\n"
          ]
        }
      ]
    },
    {
      "cell_type": "markdown",
      "source": [
        "### **Q6. WAP to create a list of 100 random numbers between 100 and 900. Count and print the:**"
      ],
      "metadata": {
        "id": "QXQGtXTFDa5s"
      }
    },
    {
      "cell_type": "markdown",
      "source": [
        "(i) All odd numbers\n"
      ],
      "metadata": {
        "id": "MR6R1jipD3pz"
      }
    },
    {
      "cell_type": "code",
      "source": [
        "import random as r\n",
        "L=r.sample(range(100,901),100)\n",
        "count=0\n",
        "for i in L:\n",
        "  if i % 2 != 0:\n",
        "    count+=1\n",
        "    print(i,end=' ')\n",
        "print(\"\\nTotal odd numbers in list are :\" , count)"
      ],
      "metadata": {
        "colab": {
          "base_uri": "https://localhost:8080/"
        },
        "id": "mjvDWZenD2Zh",
        "outputId": "29a5abf4-ef97-4072-a8ff-5184ba458f39"
      },
      "execution_count": null,
      "outputs": [
        {
          "output_type": "stream",
          "name": "stdout",
          "text": [
            "155 581 497 407 763 859 737 777 887 461 183 289 333 675 895 781 801 383 265 465 549 619 347 259 223 209 769 883 459 501 147 583 381 137 865 293 831 833 113 443 817 \n",
            "Total odd numbers in list are : 41\n"
          ]
        }
      ]
    },
    {
      "cell_type": "markdown",
      "source": [
        "(ii) All even numbers"
      ],
      "metadata": {
        "id": "WpXYGQjjFHF8"
      }
    },
    {
      "cell_type": "code",
      "source": [
        "import random as r\n",
        "L=r.sample(range(100,901),100)\n",
        "count=0\n",
        "for i in L:\n",
        "  if i % 2 == 0:\n",
        "    count+=1\n",
        "    print(i,end=' ')\n",
        "print(\"\\nTotal even numbers in list are :\" , count)"
      ],
      "metadata": {
        "colab": {
          "base_uri": "https://localhost:8080/"
        },
        "id": "iuovBhm6FXSo",
        "outputId": "19f28c38-5c70-43d4-c364-47e6694cfa12"
      },
      "execution_count": null,
      "outputs": [
        {
          "output_type": "stream",
          "name": "stdout",
          "text": [
            "142 200 662 420 478 854 596 404 340 184 598 148 670 476 390 146 594 252 144 224 630 806 472 790 782 550 724 296 324 884 398 622 494 660 684 412 650 112 376 568 784 666 372 354 734 102 704 266 316 196 134 556 166 302 238 326 \n",
            "Total even numbers in list are : 56\n"
          ]
        }
      ]
    },
    {
      "cell_type": "markdown",
      "source": [
        "(iii) All prime numbers"
      ],
      "metadata": {
        "id": "XQmtZSDUFecI"
      }
    },
    {
      "cell_type": "code",
      "source": [
        "import random as r\n",
        "L=r.sample(range(100,901),100)\n",
        "count=0\n",
        "for i in L:\n",
        "  for a in range(2 , i//2 + 1):\n",
        "    if i%a == 0:\n",
        "      i=1\n",
        "      break\n",
        "  if i != 1:\n",
        "    count+=1\n",
        "    print(i,end=' ') \n",
        "\n",
        "print(\"\\nTotal prime numbers in list are :\" , count)"
      ],
      "metadata": {
        "colab": {
          "base_uri": "https://localhost:8080/"
        },
        "id": "25P8beHPFg8G",
        "outputId": "2ae6cc61-f095-4cd4-cbff-9bace6f442df"
      },
      "execution_count": null,
      "outputs": [
        {
          "output_type": "stream",
          "name": "stdout",
          "text": [
            "607 859 173 727 751 227 349 149 883 593 293 191 773 409 719 \n",
            "Total prime numbers in list are : 15\n"
          ]
        }
      ]
    },
    {
      "cell_type": "markdown",
      "source": [
        "### **Q7. D is a dictionary defined as D={1:\"One\",2:\"Two\",3:\"Three\",4:\"Four\", 5:\"Five\"}.**\n",
        "\n",
        " WAP to read all the keys and values from dictionary and write to the file in the given below format.\n",
        "\n",
        "Key1, Value1\n",
        "\n",
        "Key2, Value2\n",
        "\n",
        "Key3, Value3"
      ],
      "metadata": {
        "id": "KjjgA9ajIIhU"
      }
    },
    {
      "cell_type": "code",
      "source": [
        "D={1:\"One\",2:\"Two\",3:\"Three\",4:\"Four\", 5:\"Five\"}\n",
        "try:\n",
        "  fp=open('DictionaryFIle.txt','w')\n",
        "  for i in D:\n",
        "    fp.write(str(i)+ \" , \" + str(D[i]) +\"\\n\")\n",
        "  fp.close()\n",
        "  print(\"Writing done inside a file\")\n",
        "except:\n",
        "  print(\"Error in writing in a file\")"
      ],
      "metadata": {
        "colab": {
          "base_uri": "https://localhost:8080/"
        },
        "id": "4xDKpQTmIiqQ",
        "outputId": "7000efe0-5576-48f4-cebf-fb1d0bdbb42b"
      },
      "execution_count": null,
      "outputs": [
        {
          "output_type": "stream",
          "name": "stdout",
          "text": [
            "Writing done inside a file\n"
          ]
        }
      ]
    },
    {
      "cell_type": "markdown",
      "source": [
        "### **Q8. L is a list defined as L={\"One\",\"Two\",\"Three\",\"Four\",\"Five\"}.**\n",
        " WAP to count the length of reach element from a list and write to the file in the given below format:\n",
        "\n",
        "One, 3\n",
        "\n",
        "Two, 3\n",
        "\n",
        "Four, 4"
      ],
      "metadata": {
        "id": "go7YoApCL1Ar"
      }
    },
    {
      "cell_type": "code",
      "source": [
        "L=list({\"One\",\"Two\",\"Three\",\"Four\",\"Five\"})\n",
        "try:\n",
        "  fp=open('CountLength.txt','w')\n",
        "  for i in L:\n",
        "    fp.write( i + \" , \" + str(len(i)) +\"\\n\")\n",
        "  fp.close()\n",
        "  print(\"Writing done inside a file\")\n",
        "except:\n",
        "  print(\"Error in writing in a file\")"
      ],
      "metadata": {
        "colab": {
          "base_uri": "https://localhost:8080/"
        },
        "id": "pLH9MGLQL-BE",
        "outputId": "4007a802-f460-4798-f9f7-2dfef352f019"
      },
      "execution_count": null,
      "outputs": [
        {
          "output_type": "stream",
          "name": "stdout",
          "text": [
            "Writing done inside a file\n"
          ]
        }
      ]
    },
    {
      "cell_type": "markdown",
      "source": [
        "### **Q9. Write to the file 100 random strings whose length between 10 and 15**"
      ],
      "metadata": {
        "id": "Wcb5qK8COGW7"
      }
    },
    {
      "cell_type": "code",
      "source": [
        "import string as s\n",
        "import random as r\n",
        "print(\"String ->\" , s.ascii_letters)\n",
        "fp=open('Random_Strings.txt', 'w')\n",
        "\n",
        "try:\n",
        "  for i in range(1,101):\n",
        "    random_string=r.sample(s.ascii_letters,r.randint(10,16))\n",
        "    random_string=\"\".join(random_string)\n",
        "    fp.write(\"Random String Number \"  + str(i) + \" : \"+ str(random_string) + \"\\n\")\n",
        "  fp.close()\n",
        "  print(\"Done\")\n",
        "except:\n",
        "  print(\"error!!!\")"
      ],
      "metadata": {
        "colab": {
          "base_uri": "https://localhost:8080/"
        },
        "id": "LGPQF4uUOJTA",
        "outputId": "5ab05a6b-8b5d-4023-829e-0511fdef230b"
      },
      "execution_count": null,
      "outputs": [
        {
          "output_type": "stream",
          "name": "stdout",
          "text": [
            "String -> abcdefghijklmnopqrstuvwxyzABCDEFGHIJKLMNOPQRSTUVWXYZ\n",
            "Done\n"
          ]
        }
      ]
    },
    {
      "cell_type": "markdown",
      "source": [
        "### **Q10. Write to the file all prime numbers between 600 and 800.**"
      ],
      "metadata": {
        "id": "CJlv98WlUvmn"
      }
    },
    {
      "cell_type": "code",
      "source": [
        "fp=open('Prime_Numbers.txt','w')\n",
        "def isprime(num):\n",
        "  for a in range(2, num//2 + 1):\n",
        "    if num % a == 0:\n",
        "      return 0\n",
        "  return 1\n",
        "try:\n",
        "  for i in range (600,801):\n",
        "    if isprime(i)==1:\n",
        "      fp.write(str(i) + \"\\n\")\n",
        "  fp.close()\n",
        "  print(\"Done\")\n",
        "except:\n",
        "  print(\"error!\")"
      ],
      "metadata": {
        "colab": {
          "base_uri": "https://localhost:8080/"
        },
        "id": "dIEGi7rlUy__",
        "outputId": "ca7660dc-9016-4e29-f031-44a769ed3966"
      },
      "execution_count": null,
      "outputs": [
        {
          "output_type": "stream",
          "name": "stdout",
          "text": [
            "Done\n"
          ]
        }
      ]
    },
    {
      "cell_type": "markdown",
      "source": [
        "### **Q11. WAP to calculate the time taken by a program**"
      ],
      "metadata": {
        "id": "mgapFPHJX2Ix"
      }
    },
    {
      "cell_type": "code",
      "source": [
        "import time as t\n",
        "start=t.time()\n",
        "sum=0\n",
        "for i in range (1,11):\n",
        "  sum+=i\n",
        "print(\"Sum of numbers (1-10) :\" , sum)\n",
        "end=t.time()\n",
        "print(\"Time Taken by program :\" , end-start)"
      ],
      "metadata": {
        "colab": {
          "base_uri": "https://localhost:8080/"
        },
        "id": "L3jbvH4JX2-s",
        "outputId": "4410320d-f931-4509-e86e-235ac25850f3"
      },
      "execution_count": null,
      "outputs": [
        {
          "output_type": "stream",
          "name": "stdout",
          "text": [
            "Sum of numbers (1-10) : 55\n",
            "Time Taken by program : 0.002623319625854492\n"
          ]
        }
      ]
    },
    {
      "cell_type": "markdown",
      "source": [
        "### **Q12. WAP to sort following number of elements in a list, calculate time taken and plot the graph.**\n",
        "\n",
        "---\n",
        "Number of elements in list:  Time Taken:\n",
        "\n",
        "\n",
        "> 5k  T1\n",
        "\n",
        "> 10k T2\n",
        "\n",
        "> 15k T3\n",
        "\n",
        "> 20k T4\n",
        "\n",
        "> 25k T5\n",
        "\n",
        "\n",
        "\n",
        "\n",
        "\n",
        "\n",
        "\n",
        "\n"
      ],
      "metadata": {
        "id": "iwc6xLQ2ajDu"
      }
    },
    {
      "cell_type": "code",
      "source": [
        "import time as t\n",
        "import random as r\n",
        "import matplotlib.pyplot as plt\n",
        "import numpy as np \n",
        "\n",
        "start=t.time()\n",
        "L=r.sample(range(1,10000),5000)\n",
        "L.sort()\n",
        "end1=t.time()\n",
        "print(\"Time Taken T1:\" , end1-start)\n",
        "\n",
        "L=r.sample(range(1,15000),10000)\n",
        "L.sort()\n",
        "end2=t.time()\n",
        "print(\"Time Taken T2:\" , end2-start)\n",
        "\n",
        "L=r.sample(range(1,20000),15000)\n",
        "L.sort()\n",
        "end3=t.time()\n",
        "print(\"Time Taken T3:\" , end3-start)\n",
        "\n",
        "L=r.sample(range(1,25000),20000)\n",
        "L.sort()\n",
        "end4=t.time()\n",
        "print(\"Time Taken T4:\" , end4-start)\n",
        "\n",
        "L=r.sample(range(1,30000),25000)\n",
        "L.sort()\n",
        "end5=t.time()\n",
        "print(\"Time Taken T5:\" , end5-start)\n",
        "\n",
        "x=['T1','T2','T3','T4','T5']\n",
        "y=[end1-start,end2-start,end3-start,end4-start,end5-start,]\n",
        "\n",
        "fig=plt.figure()\n",
        "plt.plot(x,y)"
      ],
      "metadata": {
        "colab": {
          "base_uri": "https://localhost:8080/",
          "height": 534
        },
        "id": "PDTe1JqOdqou",
        "outputId": "15136638-ca27-4678-f8e3-2a74d7721b88"
      },
      "execution_count": null,
      "outputs": [
        {
          "output_type": "stream",
          "name": "stdout",
          "text": [
            "Time Taken T1: 0.007632255554199219\n",
            "Time Taken T2: 0.017917156219482422\n",
            "Time Taken T3: 0.030214786529541016\n",
            "Time Taken T4: 0.04777693748474121\n",
            "Time Taken T5: 0.0797269344329834\n"
          ]
        },
        {
          "output_type": "execute_result",
          "data": {
            "text/plain": [
              "[<matplotlib.lines.Line2D at 0x7f7695bac7f0>]"
            ]
          },
          "metadata": {},
          "execution_count": 91
        },
        {
          "output_type": "display_data",
          "data": {
            "text/plain": [
              "<Figure size 640x480 with 1 Axes>"
            ],
            "image/png": "[encoded data removed]"
          },
          "metadata": {}
        }
      ]
    },
    {
      "cell_type": "markdown",
      "source": [
        "### **Q13. WAP to create a dictionary of student marks in five subjects and you have to find the student having maximum and minimum average marks.**"
      ],
      "metadata": {
        "id": "vMNWzx2twp0w"
      }
    },
    {
      "cell_type": "code",
      "source": [
        "Marks={\"Rohan\":[78,67,56,67,87], \"Mitansh\":[56,87,89,78,67], \"Mohan\":[97,95,75,86,67], \"Ramesh\":[89,67,87,67,54]}\n",
        "D={}\n",
        "for names in Marks:\n",
        "  D[names]=sum(Marks[names])/len(Marks[names])\n",
        "print(\"Average of all Student: \" ,D)\n",
        "max = 0\n",
        "for i in D:\n",
        "  if max < D[i]:\n",
        "    max = D[i]\n",
        "for i in D:\n",
        "  if D[i] == max:\n",
        "    print(\"Student having maximum average marks: \" , i)\n",
        "min=100\n",
        "for i in D:\n",
        "  if min > D[i]:\n",
        "    min = D[i]\n",
        "for i in D:\n",
        "  if D[i] == min:\n",
        "    print(\"Student having minimum average marks: \" , i)"
      ],
      "metadata": {
        "colab": {
          "base_uri": "https://localhost:8080/"
        },
        "id": "rMEhRK98wwIK",
        "outputId": "8521087e-86e5-4f1f-e8ae-138f065bad78"
      },
      "execution_count": 7,
      "outputs": [
        {
          "output_type": "stream",
          "name": "stdout",
          "text": [
            "Average of all Student:  {'Rohan': 71.0, 'Mitansh': 75.4, 'Mohan': 84.0, 'Ramesh': 72.8}\n",
            "Student having maximum average marks:  Mohan\n",
            "Student having minimum average marks:  Rohan\n"
          ]
        }
      ]
    }
  ]
}